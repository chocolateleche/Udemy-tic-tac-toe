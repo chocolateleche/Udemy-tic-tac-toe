{
 "cells": [
  {
   "cell_type": "code",
   "execution_count": 15,
   "metadata": {},
   "outputs": [
    {
     "name": "stdout",
     "output_type": "stream",
     "text": [
      "does this print \n",
      " a new line?\n",
      "The uDemy helper notebook for this assignment is at\n",
      " https://github.com/Pierian-Data/Complete-Python-3-Bootcamp/blob/master/04-Milestone%20Project%20-%201/02-Milestone%20Project%201%20-%20Walkthrough%20Steps%20Workbook.ipynb\n"
     ]
    }
   ],
   "source": [
    "print (\"does this print \\n a new line?\")\n",
    "print (\"The uDemy helper notebook for this assignment is at\\n https://github.com/Pierian-Data/Complete-Python-3-Bootcamp/blob/master/04-Milestone%20Project%20-%201/02-Milestone%20Project%201%20-%20Walkthrough%20Steps%20Workbook.ipynb\")"
   ]
  },
  {
   "cell_type": "code",
   "execution_count": 11,
   "metadata": {},
   "outputs": [],
   "source": [
    "from IPython.display import clear_output\n",
    "\n",
    "def display_board(board):\n",
    "    print (board[7],\"  |  \",board[8],\"  |  \", board[9])\n",
    "    print (\"    |       |   \")\n",
    "    print (board[4],\"  |  \",board[5],\"  |  \", board[6])\n",
    "    print (\"    |       |   \")\n",
    "    print (board[1],\"  |  \",board[2],\"  |  \", board[3])"
   ]
  },
  {
   "cell_type": "code",
   "execution_count": 12,
   "metadata": {},
   "outputs": [],
   "source": [
    "test_board = ['#','X','O','X','O','X','O','X','O','X']"
   ]
  },
  {
   "cell_type": "code",
   "execution_count": 13,
   "metadata": {},
   "outputs": [
    {
     "name": "stdout",
     "output_type": "stream",
     "text": [
      "X   |   O   |   X\n",
      "    |       |   \n",
      "O   |   X   |   O\n",
      "    |       |   \n",
      "X   |   O   |   X\n"
     ]
    }
   ],
   "source": [
    "display_board(test_board)"
   ]
  },
  {
   "cell_type": "code",
   "execution_count": 7,
   "metadata": {},
   "outputs": [],
   "source": [
    "def player_input():\n",
    "#     to signal that player1 isn't assigned yet:\n",
    "    player1 = False\n",
    "    \n",
    "#     while player1 != \"X\" or player1 != \"x\" or player1 != \"O\" or player1 != \"o\":\n",
    "#         player1 = input(\"Please pick a marker X or O\")\n",
    "#         print(player1)\n",
    "#         print(type(player1))\n",
    "#     if player1 == \"X\" or player1 == \"x\":\n",
    "#         player2 = \"O\"\n",
    "#     else:\n",
    "#         player2 = \"X\"\n",
    "        \n",
    "    player1 = input(\"Player1! Please pick a marker X or O\")\n",
    "    print(\"player1 is \", player1.upper())\n",
    "        \n",
    "    if player1 == \"X\" or player1 == \"x\":\n",
    "        player2 = \"O\"\n",
    "        print(\"player2 is \",player2)\n",
    "    else:\n",
    "        player2 = \"X\"\n",
    "        print(\"player2 is \",player2)\n",
    "    \n",
    " \n",
    "   "
   ]
  },
  {
   "cell_type": "code",
   "execution_count": 8,
   "metadata": {},
   "outputs": [
    {
     "name": "stdout",
     "output_type": "stream",
     "text": [
      "Player1! Please pick a marker X or Oo\n",
      "player1 is  O\n",
      "player2 is  X\n"
     ]
    }
   ],
   "source": [
    "player_input()"
   ]
  },
  {
   "cell_type": "code",
   "execution_count": 14,
   "metadata": {},
   "outputs": [],
   "source": [
    "def place_marker(board, marker, position):\n",
    "    #Write a function that takes in the board list object, a marker ('X' or 'O'), and a desired position (number 1-9) and assigns it to the board.\n",
    "    #board is going to be something like ['#','X','O','X','O','X','O','X','O','X']\n",
    "    #should my board be a dictionary where keys are indices and values are markers? or is that complicated \n",
    "    board[position] = marker"
   ]
  },
  {
   "cell_type": "code",
   "execution_count": 16,
   "metadata": {},
   "outputs": [
    {
     "name": "stdout",
     "output_type": "stream",
     "text": [
      "X   |   $   |   X\n",
      "    |       |   \n",
      "O   |   X   |   O\n",
      "    |       |   \n",
      "X   |   O   |   X\n"
     ]
    }
   ],
   "source": [
    "place_marker(test_board,'$',8)\n",
    "display_board(test_board)"
   ]
  },
  {
   "cell_type": "code",
   "execution_count": 17,
   "metadata": {},
   "outputs": [],
   "source": [
    "def win_check(board, mark):\n",
    "    #winning combos: 1,2,3 ; 4,5,6 ; 7,8,9 ; 1,5,9 ; 3,5,7 ; 1,4,7 ; 2,5,8 ; 3,6,9\n",
    "    #7 8 9\n",
    "    #4 5 6\n",
    "    #1 2 3\n",
    "    if board[1] == board[2] == board[3] == mark:\n",
    "        return True\n",
    "        print (mark,' is the winner!')\n",
    "    if board[4] == board[5] == board[6] == mark:\n",
    "        return True\n",
    "        print (mark,' is the winner!')\n",
    "    if board[7] == board[8] == board[9] == mark:\n",
    "        return True\n",
    "        print (mark,' is the winner!')\n",
    "    if board[1] == board[5] == board[9] == mark:\n",
    "        return True\n",
    "        print (mark,' is the winner!')\n",
    "    if board[3] == board[5] == board[7] == mark:\n",
    "        return True\n",
    "        print (mark,' is the winner!')\n",
    "    if board[1] == board[4] == board[7] == mark:\n",
    "        return True\n",
    "        print (mark,' is the winner!')\n",
    "    if board[2] == board[5] == board[8] == mark:\n",
    "        return True\n",
    "        print (mark,' is the winner!')\n",
    "    if board[3] == board[6] == board[9] == mark:\n",
    "        return True\n",
    "        print (mark,' is the winner!')\n",
    "    else:\n",
    "        return False\n",
    "        print ('no winner yet, yo')\n",
    "        \n",
    "    "
   ]
  },
  {
   "cell_type": "code",
   "execution_count": 18,
   "metadata": {},
   "outputs": [
    {
     "data": {
      "text/plain": [
       "True"
      ]
     },
     "execution_count": 18,
     "metadata": {},
     "output_type": "execute_result"
    }
   ],
   "source": [
    "win_check(test_board,'X')"
   ]
  },
  {
   "cell_type": "code",
   "execution_count": 19,
   "metadata": {},
   "outputs": [],
   "source": [
    "import random\n",
    "# Write a function that uses the random module to randomly decide which player goes first. You may want to lookup random.randint()\n",
    "# Return a string of which player went first.\n",
    "def choose_first():\n",
    "    print ('player',random.randint(1,2),' goes first!')"
   ]
  },
  {
   "cell_type": "code",
   "execution_count": 20,
   "metadata": {},
   "outputs": [],
   "source": [
    "def space_check(board, position):\n",
    "    if board[position] == ' ':\n",
    "        return True\n",
    "    else:\n",
    "        return False"
   ]
  },
  {
   "cell_type": "code",
   "execution_count": 21,
   "metadata": {},
   "outputs": [],
   "source": [
    "def full_board_check(board):\n",
    "    if board.count(' ') == 0:\n",
    "        return True\n",
    "    else:\n",
    "        return False"
   ]
  },
  {
   "cell_type": "code",
   "execution_count": 22,
   "metadata": {},
   "outputs": [],
   "source": [
    "def player_choice(board):\n",
    "    #Write a function that asks for a player's next position (as a number 1-9) and then uses the function from step 6 to check if it's a free\n",
    "    #position. If it is, then return the position for later use.\n",
    "    # checks to see if position player inputs is free and if yes, stores it as variable choice\n",
    "    choice = input('What is your next position?')\n",
    "    if space_check(board, choice):\n",
    "        return choice\n",
    "        print (\"you've taken position \", choice)"
   ]
  },
  {
   "cell_type": "code",
   "execution_count": 23,
   "metadata": {},
   "outputs": [],
   "source": [
    "def replay():\n",
    "    x = input(\"Do you want to play again? Type y if you want to play again.\")\n",
    "    if x == 'y':\n",
    "        return True"
   ]
  },
  {
   "cell_type": "code",
   "execution_count": null,
   "metadata": {},
   "outputs": [],
   "source": [
    "print('Welcome to Tic Tac Toe!')\n",
    "\n",
    "while True:\n",
    "    boardx = [None,' ',' ',' ',' ',' ',' ',' ',' ',' ']\n",
    "    player_input() # decides which token variables player1 and player2 are\n",
    "    choose_first() # Returnsa string of which player goes first.\n",
    "    \n",
    "        #while game_on:\n",
    "        \n",
    "        #Player 1 Turn\n",
    "        \n",
    "        \n",
    "        # Player2's turn.\n",
    "            \n",
    "            #pass\n",
    "\n",
    "    #if not replay():\n",
    "        #break"
   ]
  }
 ],
 "metadata": {
  "celltoolbar": "Raw Cell Format",
  "kernelspec": {
   "display_name": "Python 3",
   "language": "python",
   "name": "python3"
  },
  "language_info": {
   "codemirror_mode": {
    "name": "ipython",
    "version": 3
   },
   "file_extension": ".py",
   "mimetype": "text/x-python",
   "name": "python",
   "nbconvert_exporter": "python",
   "pygments_lexer": "ipython3",
   "version": "3.7.2"
  }
 },
 "nbformat": 4,
 "nbformat_minor": 2
}
