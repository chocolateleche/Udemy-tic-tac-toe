{
 "cells": [
  {
   "cell_type": "code",
   "execution_count": null,
   "metadata": {},
   "outputs": [],
   "source": [
    "print (\"does this print \\n a new line?\")\n",
    "print (\"The uDemy helper notebook for this assignment is at\\n https://github.com/Pierian-Data/Complete-Python-3-Bootcamp/blob/master/04-Milestone%20Project%20-%201/02-Milestone%20Project%201%20-%20Walkthrough%20Steps%20Workbook.ipynb\")"
   ]
  },
  {
   "cell_type": "code",
   "execution_count": null,
   "metadata": {},
   "outputs": [],
   "source": [
    "from IPython.display import clear_output\n",
    "\n",
    "def display_board(board):\n",
    "    print('  \\n')\n",
    "    print (board[7],\"  |  \",board[8],\"  |  \", board[9])\n",
    "    print (\"-----------------\")\n",
    "    print (board[4],\"  |  \",board[5],\"  |  \", board[6])\n",
    "    print (\"-----------------\")\n",
    "    print (board[1],\"  |  \",board[2],\"  |  \", board[3])\n",
    "   "
   ]
  },
  {
   "cell_type": "code",
   "execution_count": null,
   "metadata": {},
   "outputs": [],
   "source": [
    "test_board = ['#','X','O','X','O','X','O','X','O','X']"
   ]
  },
  {
   "cell_type": "code",
   "execution_count": null,
   "metadata": {},
   "outputs": [],
   "source": [
    "display_board(test_board)"
   ]
  },
  {
   "cell_type": "code",
   "execution_count": null,
   "metadata": {},
   "outputs": [],
   "source": [
    "#maybe this is just to be an \"assign only\" function?? and not return any variables?\n",
    "def player_input():\n",
    "    player1 = input(\"Please pick a marker X or O\")\n",
    "        \n",
    "    if player1.lower() == 'x':\n",
    "        player2 = 'o'\n",
    "    else:\n",
    "        player2 = 'x'\n",
    "    print ('player1 is ', player1)\n",
    "    print ('player2 is ', player2)"
   ]
  },
  {
   "cell_type": "code",
   "execution_count": null,
   "metadata": {},
   "outputs": [],
   "source": [
    "def place_marker(board, marker, position):\n",
    "    #Write a function that takes in the board list object, a marker ('X' or 'O'), and a desired position (number 1-9) and assigns it to the board.\n",
    "    #board is going to be something like ['#','X','O','X','O','X','O','X','O','X']\n",
    "    #should my board be a dictionary where keys are indices and values are markers? or is that complicated \n",
    "    board[position] = marker"
   ]
  },
  {
   "cell_type": "code",
   "execution_count": null,
   "metadata": {},
   "outputs": [],
   "source": [
    "def win_check(board, mark):\n",
    "    #winning combos: 1,2,3 ; 4,5,6 ; 7,8,9 ; 1,5,9 ; 3,5,7 ; 1,4,7 ; 2,5,8 ; 3,6,9\n",
    "    #7 8 9\n",
    "    #4 5 6\n",
    "    #1 2 3\n",
    "    if board[1] == board[2] == board[3] == mark:\n",
    "        print (mark,' is the winner!')\n",
    "        return True\n",
    "    if board[4] == board[5] == board[6] == mark:\n",
    "        print (mark,' is the winner!')\n",
    "        return True\n",
    "    if board[7] == board[8] == board[9] == mark:\n",
    "        print (mark,' is the winner!')\n",
    "        return True\n",
    "    if board[1] == board[5] == board[9] == mark:\n",
    "        print (mark,' is the winner!')\n",
    "        return True\n",
    "    if board[3] == board[5] == board[7] == mark:\n",
    "        print (mark,' is the winner!')\n",
    "        return True\n",
    "    if board[1] == board[4] == board[7] == mark:\n",
    "        rprint (mark,' is the winner!')\n",
    "        return True\n",
    "    if board[2] == board[5] == board[8] == mark:\n",
    "        print (mark,' is the winner!')\n",
    "        return True\n",
    "    if board[3] == board[6] == board[9] == mark:\n",
    "        print (mark,' is the winner!')\n",
    "        return True\n",
    "    else:\n",
    "        return False\n",
    "        print ('no winner yet, yo')\n",
    "        \n",
    "    "
   ]
  },
  {
   "cell_type": "code",
   "execution_count": null,
   "metadata": {},
   "outputs": [],
   "source": [
    "import random\n",
    "# Write a function that uses the random module to randomly decide which player goes first. You may want to lookup random.randint()\n",
    "# Return a string of which player went first.\n",
    "def choose_first():\n",
    "    first = random.randint(0,1)\n",
    "    markers_list = ['x', 'o']\n",
    "    first = markers_list[first]\n",
    "    print (first,' goes first!')\n",
    "    return first"
   ]
  },
  {
   "cell_type": "code",
   "execution_count": null,
   "metadata": {},
   "outputs": [],
   "source": [
    "def space_check(board, position):\n",
    "    if board[position] == ' ':\n",
    "        return True\n",
    "    else:\n",
    "        return False"
   ]
  },
  {
   "cell_type": "code",
   "execution_count": null,
   "metadata": {},
   "outputs": [],
   "source": [
    "def full_board_check(board):\n",
    "    if board.count(' ') == 0:\n",
    "        return True\n",
    "    else:\n",
    "        return False"
   ]
  },
  {
   "cell_type": "code",
   "execution_count": null,
   "metadata": {},
   "outputs": [],
   "source": [
    "def player_choice(board):\n",
    "    #Write a function that asks for a player's next position (as a number 1-9) and then uses the function from step 6 to check if it's a free\n",
    "    #position. If it is, then return the position for later use.\n",
    "#     choice = input('What is your next position?')\n",
    "#     if space_check(board, int(choice)):\n",
    "#         return choice\n",
    "#         print(\"you've taken position \", choice)\n",
    "#     else:\n",
    "#         print(\"that position is taken!\")\n",
    "#         player_choice(board)\n",
    "      \n",
    "    choice = input('What is your next position?')\n",
    "    while space_check(board, int(choice)) == False:\n",
    "        print(\"that position is taken!\")\n",
    "        choice = input('What is your next position?')\n",
    "    if space_check(board, int(choice)):\n",
    "        return choice\n",
    "        print(\"you've taken position \", choice)"
   ]
  },
  {
   "cell_type": "code",
   "execution_count": null,
   "metadata": {},
   "outputs": [],
   "source": [
    "def replay():\n",
    "    x = input(\"Do you want to play again? Type y if you want to play again.\")\n",
    "    if x.lower() == 'y':\n",
    "        return True"
   ]
  },
  {
   "cell_type": "code",
   "execution_count": null,
   "metadata": {},
   "outputs": [],
   "source": [
    "# dummy formula:\n",
    "# SETUP\n",
    "\n",
    "# pick tokens\n",
    "# decide which player (1 or 2) goes first\n",
    "\n",
    "# While game is on:\n",
    "#     display board\n",
    "#     whosever's turns it is picks a spot\n",
    "#     if that spot is free, that spot turns into currentplayer's marker\n",
    "#     if that spot is not free, force current player to pick again (don't move to other player's turn yet)\n",
    "#     once that marker is set, check to see if there's a winner\n",
    "#     if there's no winner yet, current player equal other player\n",
    "#     loop starts over again\n",
    "\n",
    "# CURRENT THINGS TO FIX:\n",
    "# take out recursive board_check and figure out another way to do this"
   ]
  },
  {
   "cell_type": "code",
   "execution_count": null,
   "metadata": {},
   "outputs": [],
   "source": [
    "while True:\n",
    "    game_on = True\n",
    "    boardx = [None,' ',' ',' ',' ',' ',' ',' ',' ',' ']\n",
    "    player_input() # ask player who won coin toss what token they want to be, does not return anything\n",
    "    first = choose_first() # Returns a string of which player goes first, returns variable that should be current marker\n",
    "    if first == 'x':\n",
    "        player1 = 'x'\n",
    "        player2 = 'o'\n",
    "    if first == 'o':\n",
    "        player1 = 'o'\n",
    "        player2 = 'x'\n",
    "    \n",
    "    while game_on:\n",
    "        print (\"it's \" + player1 + 's' + \" turn now\")\n",
    "        display_board(boardx)\n",
    "        choice = int(player_choice(boardx))\n",
    "        place_marker(boardx, player1, choice)\n",
    "        win_check(boardx, player1)\n",
    "        if win_check(boardx, player1) == True:\n",
    "            game_on = False\n",
    "            print(player1,' wins!')\n",
    "            break\n",
    "        if full_board_check(boardx):\n",
    "            game_on = False\n",
    "            print(\"board is full. it's a tie!\")\n",
    "            break\n",
    "        clear_output()\n",
    "                    \n",
    "        print (\"it's \" + player2 + 's' + \" turn now\")\n",
    "        display_board(boardx)\n",
    "        choice = int(player_choice(boardx))\n",
    "        place_marker(boardx, player2, choice)\n",
    "        win_check(boardx, player2)\n",
    "        if win_check(boardx, player2) == True:\n",
    "            game_on = False\n",
    "            print(player2,' wins!')\n",
    "            break\n",
    "        if full_board_check(boardx):\n",
    "            game_on = False\n",
    "            print(\"board is full. it's a tie!\")\n",
    "            break\n",
    "        clear_output()\n",
    "\n",
    "    if not replay():\n",
    "        break\n",
    "        print (\"come back and play again soon!\")"
   ]
  },
  {
   "cell_type": "code",
   "execution_count": null,
   "metadata": {},
   "outputs": [],
   "source": []
  }
 ],
 "metadata": {
  "celltoolbar": "Raw Cell Format",
  "kernelspec": {
   "display_name": "Python 3",
   "language": "python",
   "name": "python3"
  },
  "language_info": {
   "codemirror_mode": {
    "name": "ipython",
    "version": 3
   },
   "file_extension": ".py",
   "mimetype": "text/x-python",
   "name": "python",
   "nbconvert_exporter": "python",
   "pygments_lexer": "ipython3",
   "version": "3.7.4"
  }
 },
 "nbformat": 4,
 "nbformat_minor": 2
}
