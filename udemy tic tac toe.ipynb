{
 "cells": [
  {
   "cell_type": "code",
   "execution_count": null,
   "metadata": {},
   "outputs": [],
   "source": [
    "print (\"does this print \\n a new line?\")"
   ]
  },
  {
   "cell_type": "code",
   "execution_count": null,
   "metadata": {},
   "outputs": [],
   "source": [
    "from IPython.display import clear_output\n",
    "\n",
    "def display_board(board):\n",
    "    print (board[6],\"  |  \",board[7],\"  |  \", board[8])\n",
    "    print (\"    |       |   \")\n",
    "    print (board[3],\"  |  \",board[4],\"  |  \", board[5])\n",
    "    print (\"    |       |   \")\n",
    "    print (board[0],\"  |  \",board[1],\"  |  \", board[2])"
   ]
  },
  {
   "cell_type": "code",
   "execution_count": null,
   "metadata": {},
   "outputs": [],
   "source": [
    "test_board = ['#','X','O','X','O','X','O','X','O','X']"
   ]
  },
  {
   "cell_type": "code",
   "execution_count": null,
   "metadata": {},
   "outputs": [],
   "source": [
    "display_board(test_board)"
   ]
  },
  {
   "cell_type": "code",
   "execution_count": null,
   "metadata": {},
   "outputs": [],
   "source": [
    "# def player_input():\n",
    "    # to signal that player1 isn't assigned yet:\n",
    "    player1 = False\n",
    "    \n",
    "#     while player1 != \"X\" or player1 != \"x\" or player1 != \"O\" or player1 != \"o\":\n",
    "#         player1 = input(\"Please pick a marker X or O\")\n",
    "#         print(player1)\n",
    "#         print(type(player1))\n",
    "#     if player1 == \"X\" or player1 == \"x\":\n",
    "#         player2 = \"O\"\n",
    "#     else:\n",
    "#         player2 = \"X\"\n",
    "        \n",
    "    player1 = input(\"Player1! Please pick a marker X or O\")\n",
    "    print(\"player1 is \", player1.upper())\n",
    "        \n",
    "    if player1 == \"X\" or player1 == \"x\":\n",
    "        player2 = \"O\"\n",
    "        print(\"player2 is \",player2)\n",
    "    else:\n",
    "        player2 = \"X\"\n",
    "        print(\"player2 is \",player2)\n",
    "    \n",
    " \n",
    "   "
   ]
  },
  {
   "cell_type": "code",
   "execution_count": 4,
   "metadata": {},
   "outputs": [
    {
     "name": "stdout",
     "output_type": "stream",
     "text": [
      "Player1! Please pick a marker X or Oo\n",
      "player1 is  O\n",
      "player2 is  X\n"
     ]
    }
   ],
   "source": [
    "player_input()"
   ]
  },
  {
   "cell_type": "code",
   "execution_count": null,
   "metadata": {},
   "outputs": [],
   "source": []
  }
 ],
 "metadata": {
  "celltoolbar": "Raw Cell Format",
  "kernelspec": {
   "display_name": "Python 3",
   "language": "python",
   "name": "python3"
  },
  "language_info": {
   "codemirror_mode": {
    "name": "ipython",
    "version": 3
   },
   "file_extension": ".py",
   "mimetype": "text/x-python",
   "name": "python",
   "nbconvert_exporter": "python",
   "pygments_lexer": "ipython3",
   "version": "3.7.2"
  }
 },
 "nbformat": 4,
 "nbformat_minor": 2
}
