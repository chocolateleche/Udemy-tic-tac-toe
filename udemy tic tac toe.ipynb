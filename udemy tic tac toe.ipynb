{
 "cells": [
  {
   "cell_type": "code",
   "execution_count": 24,
   "metadata": {},
   "outputs": [
    {
     "name": "stdout",
     "output_type": "stream",
     "text": [
      "does this print \n",
      " a new line?\n",
      "The uDemy helper notebook for this assignment is at\n",
      " https://github.com/Pierian-Data/Complete-Python-3-Bootcamp/blob/master/04-Milestone%20Project%20-%201/02-Milestone%20Project%201%20-%20Walkthrough%20Steps%20Workbook.ipynb\n"
     ]
    }
   ],
   "source": [
    "print (\"does this print \\n a new line?\")\n",
    "print (\"The uDemy helper notebook for this assignment is at\\n https://github.com/Pierian-Data/Complete-Python-3-Bootcamp/blob/master/04-Milestone%20Project%20-%201/02-Milestone%20Project%201%20-%20Walkthrough%20Steps%20Workbook.ipynb\")"
   ]
  },
  {
   "cell_type": "code",
   "execution_count": 25,
   "metadata": {},
   "outputs": [],
   "source": [
    "from IPython.display import clear_output\n",
    "\n",
    "def display_board(board):\n",
    "    print (board[7],\"  |  \",board[8],\"  |  \", board[9])\n",
    "    print (\"-----------------\")\n",
    "    print (board[4],\"  |  \",board[5],\"  |  \", board[6])\n",
    "    print (\"-----------------\")\n",
    "    print (board[1],\"  |  \",board[2],\"  |  \", board[3])"
   ]
  },
  {
   "cell_type": "code",
   "execution_count": 26,
   "metadata": {},
   "outputs": [],
   "source": [
    "test_board = ['#','X','O','X','O','X','O','X','O','X']"
   ]
  },
  {
   "cell_type": "code",
   "execution_count": 27,
   "metadata": {},
   "outputs": [
    {
     "name": "stdout",
     "output_type": "stream",
     "text": [
      "X   |   O   |   X\n",
      "-----------------\n",
      "O   |   X   |   O\n",
      "-----------------\n",
      "X   |   O   |   X\n"
     ]
    }
   ],
   "source": [
    "display_board(test_board)"
   ]
  },
  {
   "cell_type": "code",
   "execution_count": 28,
   "metadata": {},
   "outputs": [],
   "source": [
    "def player_input():\n",
    "    player1 = input(\"Please pick a marker X or O\")\n",
    "    print(\"player\" + player1 + \"is\" + player1.upper())\n",
    "        \n",
    "    if player1 == \"X\" or player1 == \"x\":\n",
    "        return player1 = \"X\"\n",
    "        return player2 = \"O\"\n",
    "        print(\"player1 is \",player1)\n",
    "        print(\"player2 is \",player2)\n",
    "    else:\n",
    "        return player1 = \"O\"\n",
    "        return player2 = \"X\"\n",
    "        print(\"player1 is \",player1)\n",
    "        print(\"player2 is \",player2)"
   ]
  },
  {
   "cell_type": "code",
   "execution_count": 29,
   "metadata": {},
   "outputs": [],
   "source": [
    "def place_marker(board, marker, position):\n",
    "    #Write a function that takes in the board list object, a marker ('X' or 'O'), and a desired position (number 1-9) and assigns it to the board.\n",
    "    #board is going to be something like ['#','X','O','X','O','X','O','X','O','X']\n",
    "    #should my board be a dictionary where keys are indices and values are markers? or is that complicated \n",
    "    board[position] = marker"
   ]
  },
  {
   "cell_type": "code",
   "execution_count": 30,
   "metadata": {},
   "outputs": [],
   "source": [
    "def win_check(board, mark):\n",
    "    #winning combos: 1,2,3 ; 4,5,6 ; 7,8,9 ; 1,5,9 ; 3,5,7 ; 1,4,7 ; 2,5,8 ; 3,6,9\n",
    "    #7 8 9\n",
    "    #4 5 6\n",
    "    #1 2 3\n",
    "    if board[1] == board[2] == board[3] == mark:\n",
    "        return True\n",
    "        print (mark,' is the winner!')\n",
    "    if board[4] == board[5] == board[6] == mark:\n",
    "        return True\n",
    "        print (mark,' is the winner!')\n",
    "    if board[7] == board[8] == board[9] == mark:\n",
    "        return True\n",
    "        print (mark,' is the winner!')\n",
    "    if board[1] == board[5] == board[9] == mark:\n",
    "        return True\n",
    "        print (mark,' is the winner!')\n",
    "    if board[3] == board[5] == board[7] == mark:\n",
    "        return True\n",
    "        print (mark,' is the winner!')\n",
    "    if board[1] == board[4] == board[7] == mark:\n",
    "        return True\n",
    "        print (mark,' is the winner!')\n",
    "    if board[2] == board[5] == board[8] == mark:\n",
    "        return True\n",
    "        print (mark,' is the winner!')\n",
    "    if board[3] == board[6] == board[9] == mark:\n",
    "        return True\n",
    "        print (mark,' is the winner!')\n",
    "    else:\n",
    "        return False\n",
    "        print ('no winner yet, yo')\n",
    "        \n",
    "    "
   ]
  },
  {
   "cell_type": "code",
   "execution_count": 31,
   "metadata": {},
   "outputs": [],
   "source": [
    "import random\n",
    "# Write a function that uses the random module to randomly decide which player goes first. You may want to lookup random.randint()\n",
    "# Return a string of which player went first.\n",
    "def choose_first():\n",
    "    first = random.randint(1,2)\n",
    "    print ('player',first,' goes first!')"
   ]
  },
  {
   "cell_type": "code",
   "execution_count": 32,
   "metadata": {},
   "outputs": [],
   "source": [
    "def space_check(board, position):\n",
    "    if board[position] == ' ':\n",
    "        return True\n",
    "    else:\n",
    "        return False"
   ]
  },
  {
   "cell_type": "code",
   "execution_count": 33,
   "metadata": {},
   "outputs": [],
   "source": [
    "def full_board_check(board):\n",
    "    if board.count(' ') == 0:\n",
    "        return True\n",
    "    else:\n",
    "        return False"
   ]
  },
  {
   "cell_type": "code",
   "execution_count": 34,
   "metadata": {},
   "outputs": [],
   "source": [
    "def player_choice(board):\n",
    "    #Write a function that asks for a player's next position (as a number 1-9) and then uses the function from step 6 to check if it's a free\n",
    "    #position. If it is, then return the position for later use.\n",
    "    # checks to see if position player inputs is free and if yes, stores it as variable choice\n",
    "    choice = input('What is your next position?')\n",
    "    if space_check(board, int(choice)):\n",
    "        return choice\n",
    "        print(\"you've taken position \", choice)\n",
    "    else:\n",
    "        print(\"that position is taken!\")\n",
    "        player_choice(board)"
   ]
  },
  {
   "cell_type": "code",
   "execution_count": 35,
   "metadata": {},
   "outputs": [],
   "source": [
    "def replay():\n",
    "    x = input(\"Do you want to play again? Type y if you want to play again.\")\n",
    "    if x == 'y':\n",
    "        return True"
   ]
  },
  {
   "cell_type": "code",
   "execution_count": null,
   "metadata": {},
   "outputs": [],
   "source": [
    "# dummy formula:\n",
    "# SETUP\n",
    "\n",
    "# pick tokens\n",
    "# decide which player (1 or 2) goes first\n",
    "\n",
    "# While game is on:\n",
    "#     display board\n",
    "#     whosever's turns it is picks a spot\n",
    "#     if that spot is free, that spot turns into currentplayer's marker\n",
    "#     if that spot is not free, force current player to pick again (don't move to other player's turn yet)\n",
    "#     once that marker is set, check to see if there's a winner\n",
    "#     if there's no winner yet, current player equal other player\n",
    "#     loop starts over again"
   ]
  },
  {
   "cell_type": "code",
   "execution_count": 36,
   "metadata": {},
   "outputs": [
    {
     "name": "stdout",
     "output_type": "stream",
     "text": [
      "player 2  goes first!\n",
      "Please pick a marker X or Oo\n"
     ]
    },
    {
     "ename": "NameError",
     "evalue": "name 'first' is not defined",
     "output_type": "error",
     "traceback": [
      "\u001b[0;31m---------------------------------------------------------------------------\u001b[0m",
      "\u001b[0;31mNameError\u001b[0m                                 Traceback (most recent call last)",
      "\u001b[0;32m<ipython-input-36-d0ff1dade37a>\u001b[0m in \u001b[0;36m<module>\u001b[0;34m\u001b[0m\n\u001b[1;32m      4\u001b[0m     \u001b[0mboardx\u001b[0m \u001b[0;34m=\u001b[0m \u001b[0;34m[\u001b[0m\u001b[0;32mNone\u001b[0m\u001b[0;34m,\u001b[0m\u001b[0;34m' '\u001b[0m\u001b[0;34m,\u001b[0m\u001b[0;34m' '\u001b[0m\u001b[0;34m,\u001b[0m\u001b[0;34m' '\u001b[0m\u001b[0;34m,\u001b[0m\u001b[0;34m' '\u001b[0m\u001b[0;34m,\u001b[0m\u001b[0;34m' '\u001b[0m\u001b[0;34m,\u001b[0m\u001b[0;34m' '\u001b[0m\u001b[0;34m,\u001b[0m\u001b[0;34m' '\u001b[0m\u001b[0;34m,\u001b[0m\u001b[0;34m' '\u001b[0m\u001b[0;34m,\u001b[0m\u001b[0;34m' '\u001b[0m\u001b[0;34m]\u001b[0m\u001b[0;34m\u001b[0m\u001b[0;34m\u001b[0m\u001b[0m\n\u001b[1;32m      5\u001b[0m     \u001b[0mchoose_first\u001b[0m\u001b[0;34m(\u001b[0m\u001b[0;34m)\u001b[0m \u001b[0;31m# Returns a string of which player goes first.\u001b[0m\u001b[0;34m\u001b[0m\u001b[0;34m\u001b[0m\u001b[0m\n\u001b[0;32m----> 6\u001b[0;31m     \u001b[0mplayer_input\u001b[0m\u001b[0;34m(\u001b[0m\u001b[0;34m)\u001b[0m \u001b[0;31m# decides which token variables player1 and player2 are\u001b[0m\u001b[0;34m\u001b[0m\u001b[0;34m\u001b[0m\u001b[0m\n\u001b[0m\u001b[1;32m      7\u001b[0m \u001b[0;34m\u001b[0m\u001b[0m\n\u001b[1;32m      8\u001b[0m     \u001b[0mgame_on\u001b[0m \u001b[0;34m=\u001b[0m \u001b[0;32mTrue\u001b[0m\u001b[0;34m\u001b[0m\u001b[0;34m\u001b[0m\u001b[0m\n",
      "\u001b[0;32m<ipython-input-28-c87155cb960a>\u001b[0m in \u001b[0;36mplayer_input\u001b[0;34m()\u001b[0m\n\u001b[1;32m      1\u001b[0m \u001b[0;32mdef\u001b[0m \u001b[0mplayer_input\u001b[0m\u001b[0;34m(\u001b[0m\u001b[0;34m)\u001b[0m\u001b[0;34m:\u001b[0m\u001b[0;34m\u001b[0m\u001b[0;34m\u001b[0m\u001b[0m\n\u001b[1;32m      2\u001b[0m     \u001b[0mplayer1\u001b[0m \u001b[0;34m=\u001b[0m \u001b[0minput\u001b[0m\u001b[0;34m(\u001b[0m\u001b[0;34m\"Please pick a marker X or O\"\u001b[0m\u001b[0;34m)\u001b[0m\u001b[0;34m\u001b[0m\u001b[0;34m\u001b[0m\u001b[0m\n\u001b[0;32m----> 3\u001b[0;31m     \u001b[0mprint\u001b[0m\u001b[0;34m(\u001b[0m\u001b[0;34m\"player\"\u001b[0m \u001b[0;34m+\u001b[0m \u001b[0mfirst\u001b[0m \u001b[0;34m+\u001b[0m \u001b[0;34m\"is\"\u001b[0m \u001b[0;34m+\u001b[0m \u001b[0mplayer1\u001b[0m\u001b[0;34m.\u001b[0m\u001b[0mupper\u001b[0m\u001b[0;34m(\u001b[0m\u001b[0;34m)\u001b[0m\u001b[0;34m)\u001b[0m\u001b[0;34m\u001b[0m\u001b[0;34m\u001b[0m\u001b[0m\n\u001b[0m\u001b[1;32m      4\u001b[0m \u001b[0;34m\u001b[0m\u001b[0m\n\u001b[1;32m      5\u001b[0m     \u001b[0;32mif\u001b[0m \u001b[0mplayer1\u001b[0m \u001b[0;34m==\u001b[0m \u001b[0;34m\"X\"\u001b[0m \u001b[0;32mor\u001b[0m \u001b[0mplayer1\u001b[0m \u001b[0;34m==\u001b[0m \u001b[0;34m\"x\"\u001b[0m\u001b[0;34m:\u001b[0m\u001b[0;34m\u001b[0m\u001b[0;34m\u001b[0m\u001b[0m\n",
      "\u001b[0;31mNameError\u001b[0m: name 'first' is not defined"
     ]
    }
   ],
   "source": [
    "#print('Welcome to Tic Tac Toe!')\n",
    "\n",
    "while True:\n",
    "    boardx = [None,' ',' ',' ',' ',' ',' ',' ',' ',' ']\n",
    "    choose_first() # Returns a string of which player goes first.\n",
    "    player_input() # ask player who won coin toss what token they want to be\n",
    "    \n",
    "    game_on = True\n",
    "\n",
    "    #um I still can't figure out how to get the 'coin flip winner to go first\n",
    "    #in the stupid while loop below\n",
    "    \n",
    "    #should i model this like the 'take turns' RPG and just have one current player that I swap out for whose every \n",
    "    #turn it is??\n",
    "    \n",
    "    while game_on:\n",
    "        \n",
    "        display_board(boardx)\n",
    "        player_choice(boardx)\n",
    "        place_marker(boardx, current, choice)\n",
    "        win_check(boardx, player1)\n",
    "        if win_check(boardx, player1) == False:\n",
    "            game_on = False\n",
    "            break  \n",
    "#         display_board(boardx)\n",
    "#         player_choice(boardx)\n",
    "#         place_marker(boardx, player1, choice)\n",
    "#         win_check(boardx, player1)\n",
    "#         if win_check(boardx, player1) == False:\n",
    "#             game_on = False\n",
    "#             break        \n",
    "        \n",
    "#         #clear_output()\n",
    "        \n",
    "#         display_board(boardx)\n",
    "#         player_choice(boardx)\n",
    "#         place_marker(boardx, player2, choice)\n",
    "#         win_check(boardx, player2)\n",
    "#         if win_check(boardx, player2) == False:\n",
    "#             game_on = False\n",
    "#             break \n",
    "    replay()        \n",
    "    if not replay():\n",
    "        break\n",
    "        \n",
    "        \n",
    "        \n",
    "        \n",
    "    #while True:\n",
    "    # Set the game up here\n",
    "    #pass\n",
    "\n",
    "    #while game_on:\n",
    "        #Player 1 Turn\n",
    "        \n",
    "        \n",
    "        # Player2's turn.\n",
    "            \n",
    "            #pass\n",
    "\n",
    "    #if not replay():\n",
    "        #break"
   ]
  },
  {
   "cell_type": "code",
   "execution_count": null,
   "metadata": {},
   "outputs": [],
   "source": [
    "print (boardx)"
   ]
  },
  {
   "cell_type": "code",
   "execution_count": null,
   "metadata": {},
   "outputs": [],
   "source": []
  }
 ],
 "metadata": {
  "celltoolbar": "Raw Cell Format",
  "kernelspec": {
   "display_name": "Python 3",
   "language": "python",
   "name": "python3"
  },
  "language_info": {
   "codemirror_mode": {
    "name": "ipython",
    "version": 3
   },
   "file_extension": ".py",
   "mimetype": "text/x-python",
   "name": "python",
   "nbconvert_exporter": "python",
   "pygments_lexer": "ipython3",
   "version": "3.7.2"
  }
 },
 "nbformat": 4,
 "nbformat_minor": 2
}
